{
 "cells": [
  {
   "cell_type": "markdown",
   "id": "bc17aedd-2516-4caa-9b38-7a8598a60e4b",
   "metadata": {},
   "source": [
    "Example of using cppyy for bridging C++ code to Python\n",
    "===\n",
    "\n",
    "The code below uses:\n",
    "* [cppyy](https://cppyy.readthedocs.io/en/latest/index.html)\n",
    "* [ctypes](https://docs.python.org/3/library/ctypes.html)\n",
    "* [numpy](https://numpy.org/)\n",
    "* [Pillow](https://pypi.org/project/Pillow/)\n",
    "* [timeit](https://docs.python.org/3/library/timeit.html)\n",
    "\n",
    "Note: in the first cell we import ROOT, then cppyy.  This is only necesary in an evironment like phys56xx where both packages are installed.  In an environment w/o ROOT, just import cppyy.  The code that follows is generic to using cppyy.\n",
    "\n",
    "**CAVEAT**:  If I haven't mentioned it enough times, I'll do so again just in case... I do not recommend developing code in the notebook.  Notebooks are good for working with functions and classes in prebuit libraries and for prototyping things, but using them for writing larger amounts of code, expecially C/C++ will greatly slow down your develpment cycle.  Note that if you run the cppyy.cppdef insrtructions a second time, you'll get errors b/c C++ does not allow your to redefine classes or functions.  To change the compiled code you'll have to restart the kernel.  This is not very convenient, so I recommend making libraries and linking this in a shown below."
   ]
  },
  {
   "cell_type": "code",
   "execution_count": null,
   "id": "b572f6d5-5c49-4c7e-84b7-19a61fe0d350",
   "metadata": {},
   "outputs": [],
   "source": [
    "import ROOT as r  # not used, but we need to import this to use cppyy in our hybrid environment\n",
    "import cppyy      # only this line is needed if ROOT is not installed in your environment"
   ]
  },
  {
   "cell_type": "markdown",
   "id": "372e5eb4-c196-4f5b-84d8-152571f9ef65",
   "metadata": {},
   "source": [
    "We now have a just-in-time C++ compiler that is callable from Python.  It's cool, but don't over use it when you can build libraries instead for larger projects.\n",
    "\n",
    "From the docs: *cppyy is based on Cling, the C++ interpreter, to match Python’s dynamism, interactivity, and run-time behavior*\n",
    "\n",
    "Example 1: defining and compiling a C++ class \n",
    "---"
   ]
  },
  {
   "cell_type": "code",
   "execution_count": null,
   "id": "3e761c41-2cdd-40ea-b9b2-42df25a03334",
   "metadata": {},
   "outputs": [],
   "source": [
    "cppyy.cppdef(\"\"\"\n",
    "class MyClass {\n",
    "public:\n",
    "    MyClass(int i) : m_data(i) {}\n",
    "    virtual ~MyClass() {}\n",
    "    virtual int add_int(int i) { return m_data + i; }\n",
    "    int m_data;\n",
    "};\"\"\")"
   ]
  },
  {
   "cell_type": "markdown",
   "id": "5a393fba-a141-484a-abd1-89237b1c8874",
   "metadata": {},
   "source": [
    "In this case the interfaces to the C++ code are automatically defined.  There is no need to define argtypes/restype, so we can use our C++ class directly below."
   ]
  },
  {
   "cell_type": "code",
   "execution_count": null,
   "id": "e8d52e1f-3f1f-464f-8cc8-71d8010701c3",
   "metadata": {},
   "outputs": [],
   "source": [
    "from cppyy.gbl import MyClass\n",
    "m = MyClass(42) # C++ class in Python!"
   ]
  },
  {
   "cell_type": "markdown",
   "id": "485bb6e5-a5cb-41ae-84d5-469c4161a6cc",
   "metadata": {},
   "source": [
    "We can even dynamically mix C++ and Python in various ways.  Below we add a new method to the class that is visible from the Python side."
   ]
  },
  {
   "cell_type": "code",
   "execution_count": null,
   "id": "182058e1-7da9-428e-b209-dfc2fce96629",
   "metadata": {},
   "outputs": [],
   "source": [
    "cppyy.cppdef(\"\"\"\n",
    "void say_hello(MyClass* m) {\n",
    "    std::cout << \"Hello, the number is: \" << m->m_data << std::endl;\n",
    "}\"\"\")"
   ]
  },
  {
   "cell_type": "code",
   "execution_count": null,
   "id": "75619813-70ec-413c-b50a-916d49e4fcee",
   "metadata": {},
   "outputs": [],
   "source": [
    "MyClass.say_hello = cppyy.gbl.say_hello\n",
    "m.say_hello()"
   ]
  },
  {
   "cell_type": "markdown",
   "id": "f5140ac3-4700-41e2-8e8a-af69fbd664de",
   "metadata": {},
   "source": [
    "Example 2: defining a C++ function\n",
    "----"
   ]
  },
  {
   "cell_type": "code",
   "execution_count": null,
   "id": "d234d88b-5521-42d9-96e3-8c079cb39703",
   "metadata": {},
   "outputs": [],
   "source": [
    "cppyy.cppdef(\"\"\"\n",
    "// estimate pi from the dart throwing method\n",
    "double findPi2(long nthrows=100*1000*1000){\n",
    "  srand48((long)time(NULL));\n",
    "  long count=0;\n",
    "  for (int i=0; i<nthrows; ++i){\n",
    "    double x=drand48();\n",
    "    double y=drand48();\n",
    "    if (x*x+y*y < 1) ++count;\n",
    "  }\n",
    "  return 4.0*count/nthrows;\n",
    "}\"\"\")"
   ]
  },
  {
   "cell_type": "code",
   "execution_count": null,
   "id": "9cad46e2-0d72-4d0a-80b5-beef1ed0bdd2",
   "metadata": {},
   "outputs": [],
   "source": [
    "%time PI=cppyy.gbl.findPi2(100*1000*1000)\n",
    "print(\"Estimate for pi:\",PI)"
   ]
  },
  {
   "cell_type": "markdown",
   "id": "c7edaf69-b6f5-4c10-b3e7-237572984c9a",
   "metadata": {},
   "source": [
    "This is close to what we saw in the previous example. Next we'll look at an example of\n",
    "\n",
    "Loading libraries with cppyy\n",
    "---\n",
    "\n",
    "In general it is very awkward developing C++ code as text string in the middel of a Python program.  It's fine to do this for short fucntions where you can achieve a quick speed boost.  But for substantial amounts of code you'll want to compile your code into shared libraries.  You can test the code in the libraries by calling classes/functions from a dedicated C++ program or using a Python script.\n",
    "\n",
    "The Makefile created a version of mylib with C++ style linkage, mylib.so.  We can load this via cppyy as shown below.  Notice that we inclulded the header file for the library.  cppyy uses this to automatically build our interfaces!!!  This is really great.  Using the recipie in the Makefile you can easily make an enourmous range of  C++ code available in Python.  Some extra effort is required if you want to pass more complex data types, but with cppyy you can go a very long way in bridging the two languages with little effort."
   ]
  },
  {
   "cell_type": "code",
   "execution_count": null,
   "id": "78ee3052-dcc7-4dc7-bc3d-4616fb286e2b",
   "metadata": {},
   "outputs": [],
   "source": [
    "cppyy.include('mylib.h')\n",
    "cppyy.load_library('mylib.so')\n",
    "mandel=cppyy.gbl.mandel  # make a convenient handle to access our class"
   ]
  },
  {
   "cell_type": "code",
   "execution_count": null,
   "id": "b70e9736-682a-4fa2-bb4f-fc06623540c0",
   "metadata": {},
   "outputs": [],
   "source": [
    "import numpy as np\n",
    "# define parameters for the calulation\n",
    "npX=2000   # 2000 x 2000 pixel image\n",
    "npY=2000\n",
    "nTrials=255\n",
    "re1=-2.1\n",
    "re2=0.6\n",
    "im1=-1.5\n",
    "im2=1.5\n",
    "img=np.ndarray(shape=(npX,npY), dtype=np.double) # array to hold our image"
   ]
  },
  {
   "cell_type": "code",
   "execution_count": null,
   "id": "7dc2b99c-e620-42c9-89d5-b8a5f60c8ead",
   "metadata": {},
   "outputs": [],
   "source": [
    "%time mandel(img,re1,re2,im1,im2,npX,npY,nTrials)"
   ]
  },
  {
   "cell_type": "code",
   "execution_count": null,
   "id": "1c49b7a6-7383-4b31-84cf-3cdcd8b33b4b",
   "metadata": {},
   "outputs": [],
   "source": [
    "from PIL import Image\n",
    "\n",
    "# convert values to 0 - 255 int8 format\n",
    "img=np.log(img)\n",
    "img = (img/img.max()*255).astype('uint8')\n",
    "image = Image.fromarray(img)\n",
    "\n",
    "display(image)"
   ]
  },
  {
   "cell_type": "markdown",
   "id": "cf984aa9-7b6d-4e71-8a45-c674f650fa32",
   "metadata": {},
   "source": [
    "The amazing benefit of cppyy is that it can automatically builds interfaces for a wide range of C++ objects including standard containers, like vectors.  It's not difficult to map containiers in Python like numpy arrays or numerical arrays from the Python array module to C++ counterparts and it's usually possible to find useful examples in the cppyy documentation or by strategic web searching, consulting a friendly AI, etc.  If you are using ROOT objects, extensions to cppyy in ROOT are provided to make the interface of C++ ROOT and Python objects very easy.\n",
    "\n",
    "In the example below, we'll use a C++ class to perform the calculation above.  Refer to the code in mycpplib.cpp(h)."
   ]
  },
  {
   "cell_type": "code",
   "execution_count": null,
   "id": "169bba90-2482-40eb-b62e-0c4970abc316",
   "metadata": {},
   "outputs": [],
   "source": [
    "cppyy.include('mycpplib.h')\n",
    "cppyy.load_library('mycpplib.so')\n",
    "Mandel=cppyy.gbl.Mandel  # make a convenient handle to access our class"
   ]
  },
  {
   "cell_type": "markdown",
   "id": "8ac6f631-9e9f-4a3e-89e3-23629d19e30f",
   "metadata": {},
   "source": [
    "Let's see what we have here. Including automatically generated doc strings for the C++ code."
   ]
  },
  {
   "cell_type": "code",
   "execution_count": null,
   "id": "c99b8ad9-ee70-4ad3-94af-37fa0deeb875",
   "metadata": {},
   "outputs": [],
   "source": [
    "type(Mandel)"
   ]
  },
  {
   "cell_type": "markdown",
   "id": "e4a4efc3-0421-43b1-8e63-77116118315f",
   "metadata": {},
   "source": [
    "cppyy does a lot of work to conveniently pythonize our C++ class!"
   ]
  },
  {
   "cell_type": "code",
   "execution_count": null,
   "id": "7bf7df5d-4f67-422a-86dc-98b0248e9de8",
   "metadata": {},
   "outputs": [],
   "source": [
    "help(Mandel)"
   ]
  },
  {
   "cell_type": "code",
   "execution_count": null,
   "id": "f3dd05aa-db89-4268-8c36-0da008e605e3",
   "metadata": {},
   "outputs": [],
   "source": [
    "print(Mandel.mandel_test.__doc__)"
   ]
  },
  {
   "cell_type": "code",
   "execution_count": null,
   "id": "9c3a1f90-f813-48d8-8f27-6634799b5b6c",
   "metadata": {},
   "outputs": [],
   "source": [
    "mymandel=Mandel()\n",
    "from ctypes import c_double, c_int, POINTER\n",
    "re1=c_double()\n",
    "re2=c_double()\n",
    "im1=c_double()\n",
    "im2=c_double()\n",
    "mymandel.getRange(re1,re2,im1,im2)  # look at the default range\n",
    "print(f'range to explore: [{re1.value},{im1.value}] to [{re2.value},{im2.value}]')\n",
    "nr=c_int()\n",
    "ni=c_int()\n",
    "mymandel.getResolution(nr,ni)\n",
    "print(f'resolution: {nr.value}x{ni.value}')"
   ]
  },
  {
   "cell_type": "code",
   "execution_count": null,
   "id": "a5329d41-b281-4034-b030-222629213fa0",
   "metadata": {},
   "outputs": [],
   "source": [
    "mymandel.calculate()"
   ]
  },
  {
   "cell_type": "code",
   "execution_count": null,
   "id": "df4cb23d-74cd-4a49-a5b2-0456d2dbedd7",
   "metadata": {},
   "outputs": [],
   "source": [
    "import numpy as np\n",
    "img=np.ndarray(shape=(nr.value,ni.value), dtype=np.double) # array to hold our image\n",
    "mymandel.getImg(img.ctypes.data_as(POINTER(c_double)))"
   ]
  },
  {
   "cell_type": "code",
   "execution_count": null,
   "id": "83402e15-7970-4789-995a-79063a57f30f",
   "metadata": {},
   "outputs": [],
   "source": [
    "from PIL import Image\n",
    "\n",
    "# convert values to 0 - 255 int8 format\n",
    "img=np.log(img)\n",
    "img = (img/img.max()*255).astype('uint8')\n",
    "image = Image.fromarray(img)\n",
    "\n",
    "display(image)"
   ]
  },
  {
   "cell_type": "code",
   "execution_count": null,
   "id": "f647dc4f-2481-4eb7-bf70-7e456b44d0aa",
   "metadata": {},
   "outputs": [],
   "source": [
    "mymandel.setRange(-.8,-.7,0,.2)  \n",
    "mymandel.getRange(re1,re2,im1,im2)  # look at the default range\n",
    "print(f'range to explore: [{re1.value},{im1.value}] to [{re2.value},{im2.value}]')"
   ]
  },
  {
   "cell_type": "markdown",
   "id": "59b62424-5e39-4ffb-a296-695fcbd6c44a",
   "metadata": {},
   "source": [
    "Quiz for you:  Why do we have to recreate the img array below before retrieving the new scan? "
   ]
  },
  {
   "cell_type": "code",
   "execution_count": null,
   "id": "b63f3b3f-177f-4bbd-84b8-7ffc0c55d43b",
   "metadata": {},
   "outputs": [],
   "source": [
    "mymandel.calculate()\n",
    "img=np.ndarray(shape=(nr.value,ni.value), dtype=np.double) # array to hold our image\n",
    "mymandel.getImg(img.ctypes.data_as(POINTER(c_double)))"
   ]
  },
  {
   "cell_type": "code",
   "execution_count": null,
   "id": "2c508554-090d-4aca-9a6a-1a0d00e27a77",
   "metadata": {},
   "outputs": [],
   "source": [
    "img=np.log(img)\n",
    "img = (img/img.max()*255).astype('uint8')\n",
    "image = Image.fromarray(img)\n",
    "display(image)"
   ]
  },
  {
   "cell_type": "markdown",
   "id": "1b81ec1b-27e1-4e3c-8406-6b04475790a3",
   "metadata": {},
   "source": [
    "Homework project\n",
    "=================\n",
    "\n",
    "**Work on this AFTER examining all of the examples presented in today's class**\n",
    "\n",
    "Project 3a\n",
    "----------\n",
    "Examine the Python code below.  Modify mycpplib to include a C++ version of this code.  Then produce a plot showing the ratio of the time required to perform the calculation in the two languages (Python/C++) versus the input number *n*.  Extend your plot to at least n=2500."
   ]
  },
  {
   "cell_type": "code",
   "execution_count": 2,
   "id": "8bb7ca4a-4c6c-442a-ae71-a6d65b79c285",
   "metadata": {},
   "outputs": [
    {
     "data": {
      "text/plain": [
       "0"
      ]
     },
     "execution_count": 2,
     "metadata": {},
     "output_type": "execute_result"
    }
   ],
   "source": [
    "def count3d(n):\n",
    "    count=0\n",
    "    for i in range (n):\n",
    "        for j in range (i+1,n):\n",
    "            for k in range (j+1,n):\n",
    "                count = count +1\n",
    "    return count\n",
    "\n",
    "count3d(1)  # we call the funfion once to generate the bytecode before the timing trials "
   ]
  },
  {
   "cell_type": "markdown",
   "id": "e635627b-96a8-4b01-ac60-25d6e9bf6496",
   "metadata": {},
   "source": [
    "Below we use the [timeit module](https://docs.python.org/3/library/timeit.html) instead of the cell magick %time.  This allow us to retrieve the time in a Python variable.\n",
    "Note: computer timers have limited accuracy, therefore you may observe large fractional fluctuations for small times.  The estimate can be improved by averaging over several calls to the code.  Be aware of this, but you don't need to be very accurate in measuring the small times for this project, the case for large *n* is the most interesting region!\n",
    "\n",
    "In the example below timeit executes the count3d function with n=10.  In this examples the calculation is repeated number=1 times in a trial.  By default 5 trials are run and the best time is reported.  See the timeit documentation for more information."
   ]
  },
  {
   "cell_type": "markdown",
   "id": "1beba873-e3b0-41eb-8e71-326d8a7781a2",
   "metadata": {},
   "source": [
    "**Your code and plot goes here**"
   ]
  },
  {
   "cell_type": "code",
   "execution_count": 3,
   "id": "27a84d1f-d271-4883-a829-880c592319ff",
   "metadata": {},
   "outputs": [
    {
     "name": "stdout",
     "output_type": "stream",
     "text": [
      "execution time = 9.648007107898593e-06 seconds\n"
     ]
    }
   ],
   "source": [
    "#%time count3d(ncount)\n",
    "\n",
    "ncount=10\n",
    "import timeit\n",
    "execTime=timeit.timeit(f'count3d({ncount})', number=1, globals=globals())\n",
    "print(f'execution time = {execTime} seconds')"
   ]
  },
  {
   "cell_type": "code",
   "execution_count": 4,
   "id": "83a12875-93a4-406c-92a8-37a70a5cbcad",
   "metadata": {},
   "outputs": [
    {
     "data": {
      "text/plain": [
       "9.512994438409805e-06"
      ]
     },
     "execution_count": 4,
     "metadata": {},
     "output_type": "execute_result"
    }
   ],
   "source": [
    "timeit.timeit(f'count3d({ncount})', number=1, globals=globals())"
   ]
  },
  {
   "cell_type": "code",
   "execution_count": 5,
   "id": "162db16b-a33c-40cc-bfe6-cff67c15bf9d",
   "metadata": {},
   "outputs": [
    {
     "name": "stdout",
     "output_type": "stream",
     "text": [
      "n= 100 | py=0.004263s  C=0.000005s  ratio=910.02\n",
      "n= 200 | py=0.032764s  C=0.000017s  ratio=1907.87\n",
      "n= 400 | py=0.317318s  C=0.000068s  ratio=4692.39\n",
      "n= 600 | py=1.104769s  C=0.000150s  ratio=7347.00\n",
      "n= 800 | py=2.629502s  C=0.000267s  ratio=9847.36\n",
      "n=1200 | py=8.923150s  C=0.000605s  ratio=14738.65\n",
      "n=1600 | py=21.288285s  C=0.001071s  ratio=19875.01\n",
      "n=2000 | py=44.283104s  C=0.001675s  ratio=26442.95\n",
      "n=2500 | py=91.145558s  C=0.002619s  ratio=34799.33\n"
     ]
    },
    {
     "data": {
      "image/png": "[encoded data removed]",
      "text/plain": [
       "<Figure size 750x500 with 1 Axes>"
      ]
     },
     "metadata": {},
     "output_type": "display_data"
    }
   ],
   "source": [
    "import ctypes, timeit, matplotlib.pyplot as plt\n",
    "lib = ctypes.CDLL('./mycpplib.so')\n",
    "lib.count3d_c.argtypes = [ctypes.c_int]\n",
    "lib.count3d_c.restype  = ctypes.c_longlong\n",
    "\n",
    "def best_time(stmt, glb, number=1, repeat=3):\n",
    "    t = timeit.Timer(stmt, globals=glb)\n",
    "    return min(t.repeat(repeat=repeat, number=number)) / number\n",
    "\n",
    "ns_all = [100, 200, 400, 600, 800, 1200, 1600, 2000, 2500]\n",
    "NS_PY_CAP = 2500\n",
    "\n",
    "_ = count3d(50)\n",
    "_ = lib.count3d_c(50)\n",
    "\n",
    "ratios = []\n",
    "for n in ns_all:\n",
    "    tc = best_time(f'lib.count3d_c({n})', globals(), number=1, repeat=3)\n",
    "    if n <= NS_PY_CAP:\n",
    "        tp = best_time(f'count3d({n})', globals(), number=1, repeat=3)\n",
    "        ratios.append((n, tp/tc))\n",
    "        print(f\"n={n:4d} | py={tp:.6f}s  C={tc:.6f}s  ratio={tp/tc:.2f}\")\n",
    "    else:\n",
    "        print(f\"n={n:4d} | C={tc:.6f}s  py=SKIP\")\n",
    "\n",
    "xs = [n for n, r in ratios]\n",
    "ys = [r for _, r in ratios]\n",
    "plt.figure(figsize=(7.5,5.0))\n",
    "plt.plot(xs, ys, marker='o', linewidth=1.8, label='Python / C')\n",
    "plt.xlabel('n'); plt.ylabel('Time ratio (Python / C)')\n",
    "plt.title('count3d — Python vs C (ctypes)')\n",
    "plt.grid(True, linestyle='--', alpha=0.7); plt.legend(); plt.tight_layout()\n",
    "plt.savefig('proj3a_ratio_py_c.png', dpi=200, bbox_inches='tight'); plt.show()\n"
   ]
  },
  {
   "cell_type": "markdown",
   "id": "8a13622d-30dc-4064-9fbb-a0224acda446",
   "metadata": {},
   "source": [
    "Project 3b\n",
    "----------\n",
    "Repeat the exerise now comparing the ties using C++ and numba (C++/numba)."
   ]
  },
  {
   "cell_type": "markdown",
   "id": "1e9432e3-0d47-43c1-a7e1-b35d4a641d4e",
   "metadata": {},
   "source": [
    "**Your code and plot goes here**"
   ]
  },
  {
   "cell_type": "code",
   "execution_count": 6,
   "id": "cc6435d3-e26b-45a0-ae68-35b52d1b8df9",
   "metadata": {},
   "outputs": [
    {
     "name": "stdout",
     "output_type": "stream",
     "text": [
      "n= 100 | C=0.000005s  Numba=0.000001s  ratio=9.23\n",
      "n= 200 | C=0.000017s  Numba=0.000001s  ratio=26.94\n",
      "n= 400 | C=0.000067s  Numba=0.000001s  ratio=73.09\n",
      "n= 600 | C=0.000150s  Numba=0.000001s  ratio=124.00\n",
      "n= 800 | C=0.000267s  Numba=0.000002s  ratio=176.94\n",
      "n=1200 | C=0.000601s  Numba=0.000002s  ratio=282.41\n",
      "n=1600 | C=0.001071s  Numba=0.000003s  ratio=391.53\n",
      "n=2000 | C=0.001672s  Numba=0.000003s  ratio=502.04\n",
      "n=2500 | C=0.002616s  Numba=0.000004s  ratio=644.89\n"
     ]
    },
    {
     "data": {
      "image/png": "[encoded data removed]",
      "text/plain": [
       "<Figure size 750x500 with 1 Axes>"
      ]
     },
     "metadata": {},
     "output_type": "display_data"
    }
   ],
   "source": [
    "import ctypes, timeit, matplotlib.pyplot as plt\n",
    "from numba import njit\n",
    "lib = ctypes.CDLL('./mycpplib.so')\n",
    "lib.count3d_c.argtypes = [ctypes.c_int]\n",
    "lib.count3d_c.restype  = ctypes.c_longlong\n",
    "\n",
    "@njit(cache=True)\n",
    "def count3d_numba(n: int) -> int:\n",
    "    cnt = 0\n",
    "    for i in range(n):\n",
    "        for j in range(i + 1, n):\n",
    "            cnt += (n - (j + 1))\n",
    "    return cnt\n",
    "\n",
    "_ = count3d_numba(50)\n",
    "_ = lib.count3d_c(50)\n",
    "\n",
    "def best_time(stmt, glb, number=1, repeat=3):\n",
    "    t = timeit.Timer(stmt, globals=glb)\n",
    "    return min(t.repeat(repeat=repeat, number=number)) / number\n",
    "\n",
    "ns = [100, 200, 400, 600, 800, 1200, 1600, 2000, 2500]\n",
    "rat = []\n",
    "for n in ns:\n",
    "    tc = best_time(f'lib.count3d_c({n})', globals(), number=1, repeat=3)\n",
    "    tn = best_time(f'count3d_numba({n})', globals(), number=1, repeat=3)\n",
    "    rat.append(tc/tn)\n",
    "    print(f\"n={n:4d} | C={tc:.6f}s  Numba={tn:.6f}s  ratio={tc/tn:.2f}\")\n",
    "\n",
    "plt.figure(figsize=(7.5,5.0))\n",
    "plt.plot(ns, rat, marker='o', linewidth=1.8, label='C / Numba')\n",
    "plt.xlabel('n'); plt.ylabel('Time ratio (C / Numba)')\n",
    "plt.title('count3d — C (ctypes) vs Numba')\n",
    "plt.grid(True, linestyle='--', alpha=0.7); plt.legend(); plt.tight_layout()\n",
    "plt.savefig('proj3b_ratio_c_numba.png', dpi=200, bbox_inches='tight'); plt.show()\n"
   ]
  },
  {
   "cell_type": "code",
   "execution_count": null,
   "id": "3f948812-7442-4336-be3f-6fa5b2b7461d",
   "metadata": {},
   "outputs": [],
   "source": []
  }
 ],
 "metadata": {
  "kernelspec": {
   "display_name": "Python 3 (ipykernel)",
   "language": "python",
   "name": "python3"
  },
  "language_info": {
   "codemirror_mode": {
    "name": "ipython",
    "version": 3
   },
   "file_extension": ".py",
   "mimetype": "text/x-python",
   "name": "python",
   "nbconvert_exporter": "python",
   "pygments_lexer": "ipython3",
   "version": "3.12.11"
  }
 },
 "nbformat": 4,
 "nbformat_minor": 5
}
